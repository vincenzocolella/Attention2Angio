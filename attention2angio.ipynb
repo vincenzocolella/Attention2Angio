{
  "cells": [
    {
      "cell_type": "code",
      "execution_count": null,
      "metadata": {
        "colab": {
          "base_uri": "https://localhost:8080/"
        },
        "id": "-UL6agY-QBjO",
        "outputId": "118fe52c-c868-467e-df99-ff972b5de4a7"
      },
      "outputs": [],
      "source": [
        "cd /content/drive/MyDrive/Attention2Angio-main"
      ]
    },
    {
      "cell_type": "code",
      "execution_count": null,
      "metadata": {
        "colab": {
          "base_uri": "https://localhost:8080/",
          "height": 1000
        },
        "id": "d11tUGeXSG9s",
        "outputId": "6d04856f-e85f-4b76-8bfe-0718aafc7587"
      },
      "outputs": [],
      "source": [
        "!pip install -r requirements.txt"
      ]
    },
    {
      "cell_type": "code",
      "execution_count": null,
      "metadata": {
        "colab": {
          "base_uri": "https://localhost:8080/"
        },
        "id": "iy8EmqjPSKTj",
        "outputId": "48b0ec03-3caa-41f0-ac59-330f951ba414"
      },
      "outputs": [],
      "source": [
        "!python3 train.py --npz_file=npz_128_20 --input_dim=128 --batch=4 --epochs=50 --savedir=AAGAN"
      ]
    },
    {
      "cell_type": "markdown",
      "metadata": {
        "id": "PWSm27aAnk26"
      },
      "source": [
        "--input_dim=128 --batch=4 --epochs=50 --n crops=25 \n",
        "=> arivato a step 5300 e finito.\n",
        "--input_dim=256 --batch=4 --epochs=50 --n crops=20"
      ]
    },
    {
      "cell_type": "code",
      "execution_count": null,
      "metadata": {
        "id": "YuEunFnASfy1"
      },
      "outputs": [],
      "source": []
    }
  ],
  "metadata": {
    "accelerator": "GPU",
    "colab": {
      "collapsed_sections": [],
      "name": "attention2angio",
      "provenance": []
    },
    "kernelspec": {
      "display_name": "Python 3",
      "name": "python3"
    },
    "language_info": {
      "name": "python",
      "version": "3.5.6"
    }
  },
  "nbformat": 4,
  "nbformat_minor": 0
}
